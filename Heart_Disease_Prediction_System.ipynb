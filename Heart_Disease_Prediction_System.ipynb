{
  "nbformat": 4,
  "nbformat_minor": 0,
  "metadata": {
    "colab": {
      "name": "Heart Disease Prediction System.ipynb",
      "provenance": [],
      "authorship_tag": "ABX9TyOxw0RbAODKmxUfebGzM5wU",
      "include_colab_link": true
    },
    "kernelspec": {
      "name": "python3",
      "display_name": "Python 3"
    },
    "language_info": {
      "name": "python"
    }
  },
  "cells": [
    {
      "cell_type": "markdown",
      "metadata": {
        "id": "view-in-github",
        "colab_type": "text"
      },
      "source": [
        "<a href=\"https://colab.research.google.com/github/Anushamaria22/Air-Quality-Analysis-IOT/blob/main/Heart_Disease_Prediction_System.ipynb\" target=\"_parent\"><img src=\"https://colab.research.google.com/assets/colab-badge.svg\" alt=\"Open In Colab\"/></a>"
      ]
    },
    {
      "cell_type": "code",
      "metadata": {
        "id": "dkWA8SIndrHs"
      },
      "source": [
        "import torch\n",
        "import torchvision\n",
        "import numpy as np\n",
        "import matplotlib.pyplot as plt\n",
        "import torch.nn as nn\n",
        "import torch.nn.functional as F\n",
        "\n",
        "from torchvision.transforms import ToTensor\n",
        "import pandas as pd\n",
        "from torch.utils.data.dataloader import DataLoader\n",
        "from torch.utils.data import random_split\n",
        "%matplotlib inline"
      ],
      "execution_count": 1,
      "outputs": []
    },
    {
      "cell_type": "code",
      "metadata": {
        "id": "qVKCMonSfZr3"
      },
      "source": [
        "data=pd.read_csv('https://raw.githubusercontent.com/SaiPratyushaGantimahapatruni/Datasets/master/datasets_33180_43520_heart.csv')"
      ],
      "execution_count": 2,
      "outputs": []
    },
    {
      "cell_type": "markdown",
      "metadata": {
        "id": "XOStLGUWfskn"
      },
      "source": [
        "#Dataset Description\n",
        "\n",
        "Data always plays a major role in the prediction process. For developing this predictive model, the heart disease data available in the UCI machine learning repository were considered. The dataset consists of the below attributes.\n",
        "\n",
        "S No Attribute Name Type of Attribute\n",
        "\n",
        "1           Age                                            Real\n",
        "2           Sex                                            Binary\n",
        "3           Chest Pain Type                                Nominal\n",
        "4           Resting  Blood Pressure                        Real\n",
        "5           Cholesterol                                    Real\n",
        "6           Fasting Blood Sugar                            Binary\n",
        "7           Resting Electrocardiographic Results           Nominal\n",
        "8           Maximum Heart Rate Achieved                    Real\n",
        "9           Exercise Induced Angina                        Binary\n",
        "10          Old peak                                       Real\n",
        "11          Slope Of The Peak Exercise ST Segment          Ordered\n",
        "12          Number Of Major Vessels                        Real\n",
        "13          Thal                                           Nominal\n",
        "14          Num                                            Real\n",
        "age--->age in years\n",
        "\n",
        "sex--->(1 = male; 0 = female)\n",
        "\n",
        "cp--->Chest pain type\n",
        "\n",
        "trestbps--->resting blood pressure (in mm Hg on admission to the hospital)\n",
        "\n",
        "chol--->serum cholestoral in mg/dl\n",
        "\n",
        "fbs--->(fasting blood sugar > 120 mg/dl) (1 = true; 0 = false)\n",
        "\n",
        "restecg--->resting electrocardiographic results\n",
        "\n",
        "thalch--->maximum heart rate achieved\n",
        "\n",
        "exang--->exercise induced angina (1 = yes; 0 = no)\n",
        "\n",
        "oldpeak--->ST depression induced by exercise relative to rest\n",
        "\n",
        "slope--->Slope Of The Peak Exercise ST Segment\n",
        "\n",
        "ca--->Number of major vessels\n",
        "\n",
        "thal--->Thal\n",
        "\n",
        "target--->heart disease (1=yes; 0=no)"
      ]
    },
    {
      "cell_type": "code",
      "metadata": {
        "colab": {
          "base_uri": "https://localhost:8080/",
          "height": 402
        },
        "id": "j0weUcjqfttT",
        "outputId": "e7925b95-c36f-4d69-f253-b3171f793468"
      },
      "source": [
        "data"
      ],
      "execution_count": 3,
      "outputs": [
        {
          "output_type": "execute_result",
          "data": {
            "text/html": [
              "<div>\n",
              "<style scoped>\n",
              "    .dataframe tbody tr th:only-of-type {\n",
              "        vertical-align: middle;\n",
              "    }\n",
              "\n",
              "    .dataframe tbody tr th {\n",
              "        vertical-align: top;\n",
              "    }\n",
              "\n",
              "    .dataframe thead th {\n",
              "        text-align: right;\n",
              "    }\n",
              "</style>\n",
              "<table border=\"1\" class=\"dataframe\">\n",
              "  <thead>\n",
              "    <tr style=\"text-align: right;\">\n",
              "      <th></th>\n",
              "      <th>age</th>\n",
              "      <th>sex</th>\n",
              "      <th>cp</th>\n",
              "      <th>trestbps</th>\n",
              "      <th>chol</th>\n",
              "      <th>fbs</th>\n",
              "      <th>restecg</th>\n",
              "      <th>thalach</th>\n",
              "      <th>exang</th>\n",
              "      <th>oldpeak</th>\n",
              "      <th>slope</th>\n",
              "      <th>ca</th>\n",
              "      <th>thal</th>\n",
              "      <th>target</th>\n",
              "    </tr>\n",
              "  </thead>\n",
              "  <tbody>\n",
              "    <tr>\n",
              "      <th>0</th>\n",
              "      <td>63</td>\n",
              "      <td>1</td>\n",
              "      <td>3</td>\n",
              "      <td>145</td>\n",
              "      <td>233</td>\n",
              "      <td>1</td>\n",
              "      <td>0</td>\n",
              "      <td>150</td>\n",
              "      <td>0</td>\n",
              "      <td>2.3</td>\n",
              "      <td>0</td>\n",
              "      <td>0</td>\n",
              "      <td>1</td>\n",
              "      <td>1</td>\n",
              "    </tr>\n",
              "    <tr>\n",
              "      <th>1</th>\n",
              "      <td>37</td>\n",
              "      <td>1</td>\n",
              "      <td>2</td>\n",
              "      <td>130</td>\n",
              "      <td>250</td>\n",
              "      <td>0</td>\n",
              "      <td>1</td>\n",
              "      <td>187</td>\n",
              "      <td>0</td>\n",
              "      <td>3.5</td>\n",
              "      <td>0</td>\n",
              "      <td>0</td>\n",
              "      <td>2</td>\n",
              "      <td>1</td>\n",
              "    </tr>\n",
              "    <tr>\n",
              "      <th>2</th>\n",
              "      <td>41</td>\n",
              "      <td>0</td>\n",
              "      <td>1</td>\n",
              "      <td>130</td>\n",
              "      <td>204</td>\n",
              "      <td>0</td>\n",
              "      <td>0</td>\n",
              "      <td>172</td>\n",
              "      <td>0</td>\n",
              "      <td>1.4</td>\n",
              "      <td>2</td>\n",
              "      <td>0</td>\n",
              "      <td>2</td>\n",
              "      <td>1</td>\n",
              "    </tr>\n",
              "    <tr>\n",
              "      <th>3</th>\n",
              "      <td>56</td>\n",
              "      <td>1</td>\n",
              "      <td>1</td>\n",
              "      <td>120</td>\n",
              "      <td>236</td>\n",
              "      <td>0</td>\n",
              "      <td>1</td>\n",
              "      <td>178</td>\n",
              "      <td>0</td>\n",
              "      <td>0.8</td>\n",
              "      <td>2</td>\n",
              "      <td>0</td>\n",
              "      <td>2</td>\n",
              "      <td>1</td>\n",
              "    </tr>\n",
              "    <tr>\n",
              "      <th>4</th>\n",
              "      <td>57</td>\n",
              "      <td>0</td>\n",
              "      <td>0</td>\n",
              "      <td>120</td>\n",
              "      <td>354</td>\n",
              "      <td>0</td>\n",
              "      <td>1</td>\n",
              "      <td>163</td>\n",
              "      <td>1</td>\n",
              "      <td>0.6</td>\n",
              "      <td>2</td>\n",
              "      <td>0</td>\n",
              "      <td>2</td>\n",
              "      <td>1</td>\n",
              "    </tr>\n",
              "    <tr>\n",
              "      <th>...</th>\n",
              "      <td>...</td>\n",
              "      <td>...</td>\n",
              "      <td>...</td>\n",
              "      <td>...</td>\n",
              "      <td>...</td>\n",
              "      <td>...</td>\n",
              "      <td>...</td>\n",
              "      <td>...</td>\n",
              "      <td>...</td>\n",
              "      <td>...</td>\n",
              "      <td>...</td>\n",
              "      <td>...</td>\n",
              "      <td>...</td>\n",
              "      <td>...</td>\n",
              "    </tr>\n",
              "    <tr>\n",
              "      <th>298</th>\n",
              "      <td>57</td>\n",
              "      <td>0</td>\n",
              "      <td>0</td>\n",
              "      <td>140</td>\n",
              "      <td>241</td>\n",
              "      <td>0</td>\n",
              "      <td>1</td>\n",
              "      <td>123</td>\n",
              "      <td>1</td>\n",
              "      <td>0.2</td>\n",
              "      <td>1</td>\n",
              "      <td>0</td>\n",
              "      <td>3</td>\n",
              "      <td>0</td>\n",
              "    </tr>\n",
              "    <tr>\n",
              "      <th>299</th>\n",
              "      <td>45</td>\n",
              "      <td>1</td>\n",
              "      <td>3</td>\n",
              "      <td>110</td>\n",
              "      <td>264</td>\n",
              "      <td>0</td>\n",
              "      <td>1</td>\n",
              "      <td>132</td>\n",
              "      <td>0</td>\n",
              "      <td>1.2</td>\n",
              "      <td>1</td>\n",
              "      <td>0</td>\n",
              "      <td>3</td>\n",
              "      <td>0</td>\n",
              "    </tr>\n",
              "    <tr>\n",
              "      <th>300</th>\n",
              "      <td>68</td>\n",
              "      <td>1</td>\n",
              "      <td>0</td>\n",
              "      <td>144</td>\n",
              "      <td>193</td>\n",
              "      <td>1</td>\n",
              "      <td>1</td>\n",
              "      <td>141</td>\n",
              "      <td>0</td>\n",
              "      <td>3.4</td>\n",
              "      <td>1</td>\n",
              "      <td>2</td>\n",
              "      <td>3</td>\n",
              "      <td>0</td>\n",
              "    </tr>\n",
              "    <tr>\n",
              "      <th>301</th>\n",
              "      <td>57</td>\n",
              "      <td>1</td>\n",
              "      <td>0</td>\n",
              "      <td>130</td>\n",
              "      <td>131</td>\n",
              "      <td>0</td>\n",
              "      <td>1</td>\n",
              "      <td>115</td>\n",
              "      <td>1</td>\n",
              "      <td>1.2</td>\n",
              "      <td>1</td>\n",
              "      <td>1</td>\n",
              "      <td>3</td>\n",
              "      <td>0</td>\n",
              "    </tr>\n",
              "    <tr>\n",
              "      <th>302</th>\n",
              "      <td>57</td>\n",
              "      <td>0</td>\n",
              "      <td>1</td>\n",
              "      <td>130</td>\n",
              "      <td>236</td>\n",
              "      <td>0</td>\n",
              "      <td>0</td>\n",
              "      <td>174</td>\n",
              "      <td>0</td>\n",
              "      <td>0.0</td>\n",
              "      <td>1</td>\n",
              "      <td>1</td>\n",
              "      <td>2</td>\n",
              "      <td>0</td>\n",
              "    </tr>\n",
              "  </tbody>\n",
              "</table>\n",
              "<p>303 rows × 14 columns</p>\n",
              "</div>"
            ],
            "text/plain": [
              "     age  sex  cp  trestbps  chol  fbs  ...  exang  oldpeak  slope  ca  thal  target\n",
              "0     63    1   3       145   233    1  ...      0      2.3      0   0     1       1\n",
              "1     37    1   2       130   250    0  ...      0      3.5      0   0     2       1\n",
              "2     41    0   1       130   204    0  ...      0      1.4      2   0     2       1\n",
              "3     56    1   1       120   236    0  ...      0      0.8      2   0     2       1\n",
              "4     57    0   0       120   354    0  ...      1      0.6      2   0     2       1\n",
              "..   ...  ...  ..       ...   ...  ...  ...    ...      ...    ...  ..   ...     ...\n",
              "298   57    0   0       140   241    0  ...      1      0.2      1   0     3       0\n",
              "299   45    1   3       110   264    0  ...      0      1.2      1   0     3       0\n",
              "300   68    1   0       144   193    1  ...      0      3.4      1   2     3       0\n",
              "301   57    1   0       130   131    0  ...      1      1.2      1   1     3       0\n",
              "302   57    0   1       130   236    0  ...      0      0.0      1   1     2       0\n",
              "\n",
              "[303 rows x 14 columns]"
            ]
          },
          "metadata": {
            "tags": []
          },
          "execution_count": 3
        }
      ]
    },
    {
      "cell_type": "code",
      "metadata": {
        "colab": {
          "base_uri": "https://localhost:8080/"
        },
        "id": "Y6ScWq7xf9Ye",
        "outputId": "5c88cbb2-7d31-49c1-f29c-f6cc6aafe55b"
      },
      "source": [
        "num_rows=data.shape[0]\n",
        "num_rows"
      ],
      "execution_count": 4,
      "outputs": [
        {
          "output_type": "execute_result",
          "data": {
            "text/plain": [
              "303"
            ]
          },
          "metadata": {
            "tags": []
          },
          "execution_count": 4
        }
      ]
    },
    {
      "cell_type": "code",
      "metadata": {
        "colab": {
          "base_uri": "https://localhost:8080/"
        },
        "id": "zbSWO9isgEsA",
        "outputId": "556cf015-199b-426e-a665-e33bcf086e9b"
      },
      "source": [
        "num_cols=data.shape[1]\n",
        "num_cols"
      ],
      "execution_count": 6,
      "outputs": [
        {
          "output_type": "execute_result",
          "data": {
            "text/plain": [
              "14"
            ]
          },
          "metadata": {
            "tags": []
          },
          "execution_count": 6
        }
      ]
    },
    {
      "cell_type": "code",
      "metadata": {
        "colab": {
          "base_uri": "https://localhost:8080/"
        },
        "id": "4c8ugBQ-gWIq",
        "outputId": "d3904513-63c7-471a-e718-49c0e1f1a27c"
      },
      "source": [
        "input_cols=data.columns[:-1]\n",
        "input_cols"
      ],
      "execution_count": 7,
      "outputs": [
        {
          "output_type": "execute_result",
          "data": {
            "text/plain": [
              "Index(['age', 'sex', 'cp', 'trestbps', 'chol', 'fbs', 'restecg', 'thalach',\n",
              "       'exang', 'oldpeak', 'slope', 'ca', 'thal'],\n",
              "      dtype='object')"
            ]
          },
          "metadata": {
            "tags": []
          },
          "execution_count": 7
        }
      ]
    },
    {
      "cell_type": "code",
      "metadata": {
        "colab": {
          "base_uri": "https://localhost:8080/"
        },
        "id": "n19npgdCgWLw",
        "outputId": "c25b4bb4-350e-4c94-ad0d-2c5fa751fcfd"
      },
      "source": [
        "target_col=data.columns[-1:]\n",
        "target_col"
      ],
      "execution_count": 8,
      "outputs": [
        {
          "output_type": "execute_result",
          "data": {
            "text/plain": [
              "Index(['target'], dtype='object')"
            ]
          },
          "metadata": {
            "tags": []
          },
          "execution_count": 8
        }
      ]
    },
    {
      "cell_type": "code",
      "metadata": {
        "colab": {
          "base_uri": "https://localhost:8080/"
        },
        "id": "yYYRG1CxgWOh",
        "outputId": "75750b0b-82b5-4b90-8817-4ff5d62b2d7d"
      },
      "source": [
        "data.target.value_counts()"
      ],
      "execution_count": 9,
      "outputs": [
        {
          "output_type": "execute_result",
          "data": {
            "text/plain": [
              "1    165\n",
              "0    138\n",
              "Name: target, dtype: int64"
            ]
          },
          "metadata": {
            "tags": []
          },
          "execution_count": 9
        }
      ]
    },
    {
      "cell_type": "code",
      "metadata": {
        "colab": {
          "base_uri": "https://localhost:8080/",
          "height": 282
        },
        "id": "yP9xM9pMgWRL",
        "outputId": "6b0214ca-3de3-4790-8ca2-670eca9efebf"
      },
      "source": [
        "data.target.plot(kind=\"hist\")"
      ],
      "execution_count": 10,
      "outputs": [
        {
          "output_type": "execute_result",
          "data": {
            "text/plain": [
              "<matplotlib.axes._subplots.AxesSubplot at 0x7f2cc2975e90>"
            ]
          },
          "metadata": {
            "tags": []
          },
          "execution_count": 10
        },
        {
          "output_type": "display_data",
          "data": {
            "image/png": "[encoded data removed]",
            "text/plain": [
              "<Figure size 432x288 with 1 Axes>"
            ]
          },
          "metadata": {
            "tags": [],
            "needs_background": "light"
          }
        }
      ]
    },
    {
      "cell_type": "code",
      "metadata": {
        "colab": {
          "base_uri": "https://localhost:8080/",
          "height": 282
        },
        "id": "xScSBm0JgWVL",
        "outputId": "bea9918f-6bf9-4fd9-d77e-edb7215d75cd"
      },
      "source": [
        "data.sex.plot(kind='hist')"
      ],
      "execution_count": 11,
      "outputs": [
        {
          "output_type": "execute_result",
          "data": {
            "text/plain": [
              "<matplotlib.axes._subplots.AxesSubplot at 0x7f2cc2866550>"
            ]
          },
          "metadata": {
            "tags": []
          },
          "execution_count": 11
        },
        {
          "output_type": "display_data",
          "data": {
            "image/png": "[encoded data removed]",
            "text/plain": [
              "<Figure size 432x288 with 1 Axes>"
            ]
          },
          "metadata": {
            "tags": [],
            "needs_background": "light"
          }
        }
      ]
    },
    {
      "cell_type": "code",
      "metadata": {
        "colab": {
          "base_uri": "https://localhost:8080/",
          "height": 282
        },
        "id": "EQT3uLsLgWYK",
        "outputId": "d28f3292-6064-4c7e-c115-a753bef0c5a8"
      },
      "source": [
        "data.age.plot(kind='hist')"
      ],
      "execution_count": 12,
      "outputs": [
        {
          "output_type": "execute_result",
          "data": {
            "text/plain": [
              "<matplotlib.axes._subplots.AxesSubplot at 0x7f2cc23b5ed0>"
            ]
          },
          "metadata": {
            "tags": []
          },
          "execution_count": 12
        },
        {
          "output_type": "display_data",
          "data": {
            "image/png": "[encoded data removed]",
            "text/plain": [
              "<Figure size 432x288 with 1 Axes>"
            ]
          },
          "metadata": {
            "tags": [],
            "needs_background": "light"
          }
        }
      ]
    },
    {
      "cell_type": "code",
      "metadata": {
        "colab": {
          "base_uri": "https://localhost:8080/",
          "height": 422
        },
        "id": "Zv8LJeVFgWae",
        "outputId": "773cf95e-ec25-4482-ad86-efe2dd90bc25"
      },
      "source": [
        "import seaborn as sns\n",
        "sns.FacetGrid(data,height = 5)\\\n",
        " .map(sns.distplot,'age')\\\n",
        " . add_legend();\n",
        "plt.grid()\n",
        "plt.show()"
      ],
      "execution_count": 13,
      "outputs": [
        {
          "output_type": "stream",
          "text": [
            "/usr/local/lib/python3.7/dist-packages/seaborn/distributions.py:2557: FutureWarning: `distplot` is a deprecated function and will be removed in a future version. Please adapt your code to use either `displot` (a figure-level function with similar flexibility) or `histplot` (an axes-level function for histograms).\n",
            "  warnings.warn(msg, FutureWarning)\n"
          ],
          "name": "stderr"
        },
        {
          "output_type": "display_data",
          "data": {
            "image/png": "[encoded data removed]",
            "text/plain": [
              "<Figure size 368x360 with 1 Axes>"
            ]
          },
          "metadata": {
            "tags": [],
            "needs_background": "light"
          }
        }
      ]
    },
    {
      "cell_type": "code",
      "metadata": {
        "colab": {
          "base_uri": "https://localhost:8080/",
          "height": 456
        },
        "id": "dorBFvBTgWdq",
        "outputId": "028c3021-7f31-4ccd-dee5-a7a86cc4ef9f"
      },
      "source": [
        "sns.FacetGrid(data,hue='sex',height = 5)\\\n",
        " .map(sns.distplot,'target')\\\n",
        " . add_legend();\n",
        "plt.grid()\n",
        "plt.show()"
      ],
      "execution_count": 14,
      "outputs": [
        {
          "output_type": "stream",
          "text": [
            "/usr/local/lib/python3.7/dist-packages/seaborn/distributions.py:2557: FutureWarning: `distplot` is a deprecated function and will be removed in a future version. Please adapt your code to use either `displot` (a figure-level function with similar flexibility) or `histplot` (an axes-level function for histograms).\n",
            "  warnings.warn(msg, FutureWarning)\n",
            "/usr/local/lib/python3.7/dist-packages/seaborn/distributions.py:2557: FutureWarning: `distplot` is a deprecated function and will be removed in a future version. Please adapt your code to use either `displot` (a figure-level function with similar flexibility) or `histplot` (an axes-level function for histograms).\n",
            "  warnings.warn(msg, FutureWarning)\n"
          ],
          "name": "stderr"
        },
        {
          "output_type": "display_data",
          "data": {
            "image/png": "[encoded data removed]",
            "text/plain": [
              "<Figure size 402.375x360 with 1 Axes>"
            ]
          },
          "metadata": {
            "tags": [],
            "needs_background": "light"
          }
        }
      ]
    },
    {
      "cell_type": "code",
      "metadata": {
        "id": "hOmoKKNcgWgM"
      },
      "source": [
        "d=data[data.target==1]"
      ],
      "execution_count": 15,
      "outputs": []
    },
    {
      "cell_type": "code",
      "metadata": {
        "colab": {
          "base_uri": "https://localhost:8080/"
        },
        "id": "79YnIYLShBgo",
        "outputId": "192c100d-9f67-4af2-cc10-df763e297cad"
      },
      "source": [
        "d.sex.value_counts()"
      ],
      "execution_count": 16,
      "outputs": [
        {
          "output_type": "execute_result",
          "data": {
            "text/plain": [
              "1    93\n",
              "0    72\n",
              "Name: sex, dtype: int64"
            ]
          },
          "metadata": {
            "tags": []
          },
          "execution_count": 16
        }
      ]
    },
    {
      "cell_type": "code",
      "metadata": {
        "colab": {
          "base_uri": "https://localhost:8080/",
          "height": 279
        },
        "id": "MtI8H0ffhBzG",
        "outputId": "970622a9-a416-4fbd-fe4d-ad197d65a8a1"
      },
      "source": [
        "sns.boxplot(x='target',y='age',data=data)\n",
        "plt.show()"
      ],
      "execution_count": 17,
      "outputs": [
        {
          "output_type": "display_data",
          "data": {
            "image/png": "[encoded data removed]",
            "text/plain": [
              "<Figure size 432x288 with 1 Axes>"
            ]
          },
          "metadata": {
            "tags": [],
            "needs_background": "light"
          }
        }
      ]
    },
    {
      "cell_type": "code",
      "metadata": {
        "colab": {
          "base_uri": "https://localhost:8080/",
          "height": 441
        },
        "id": "99mqNrz3hB8a",
        "outputId": "1bf38a67-c9e1-42e0-e259-8b63406c1a3e"
      },
      "source": [
        "sns.jointplot(x = 'target', y = 'age', data = data, kind = 'kde')\n",
        "plt.show()"
      ],
      "execution_count": 18,
      "outputs": [
        {
          "output_type": "display_data",
          "data": {
            "image/png": "[encoded data removed]",
            "text/plain": [
              "<Figure size 432x432 with 3 Axes>"
            ]
          },
          "metadata": {
            "tags": [],
            "needs_background": "light"
          }
        }
      ]
    },
    {
      "cell_type": "code",
      "metadata": {
        "id": "dR0IbVUKhKvM"
      },
      "source": [
        "def dataframe_to_arrays(dataframe):\n",
        "    # Make a copy of the original dataframe\n",
        "    dataframe1 = dataframe.copy(deep=True)\n",
        "   \n",
        "    inputs_array = dataframe1[input_cols].to_numpy()\n",
        "    targets_array = dataframe1[target_col].to_numpy()\n",
        "    return inputs_array, targets_array"
      ],
      "execution_count": 19,
      "outputs": []
    },
    {
      "cell_type": "code",
      "metadata": {
        "id": "egQg2dZWhKy5"
      },
      "source": [
        "inputs_array, targets_array = dataframe_to_arrays(data)"
      ],
      "execution_count": 20,
      "outputs": []
    },
    {
      "cell_type": "code",
      "metadata": {
        "colab": {
          "base_uri": "https://localhost:8080/"
        },
        "id": "hvGQQvhxhK1G",
        "outputId": "0cf2fdda-2d91-4123-a2e1-6e1f2585ae4b"
      },
      "source": [
        "data.info()"
      ],
      "execution_count": 21,
      "outputs": [
        {
          "output_type": "stream",
          "text": [
            "<class 'pandas.core.frame.DataFrame'>\n",
            "RangeIndex: 303 entries, 0 to 302\n",
            "Data columns (total 14 columns):\n",
            " #   Column    Non-Null Count  Dtype  \n",
            "---  ------    --------------  -----  \n",
            " 0   age       303 non-null    int64  \n",
            " 1   sex       303 non-null    int64  \n",
            " 2   cp        303 non-null    int64  \n",
            " 3   trestbps  303 non-null    int64  \n",
            " 4   chol      303 non-null    int64  \n",
            " 5   fbs       303 non-null    int64  \n",
            " 6   restecg   303 non-null    int64  \n",
            " 7   thalach   303 non-null    int64  \n",
            " 8   exang     303 non-null    int64  \n",
            " 9   oldpeak   303 non-null    float64\n",
            " 10  slope     303 non-null    int64  \n",
            " 11  ca        303 non-null    int64  \n",
            " 12  thal      303 non-null    int64  \n",
            " 13  target    303 non-null    int64  \n",
            "dtypes: float64(1), int64(13)\n",
            "memory usage: 33.3 KB\n"
          ],
          "name": "stdout"
        }
      ]
    },
    {
      "cell_type": "code",
      "metadata": {
        "colab": {
          "base_uri": "https://localhost:8080/",
          "height": 284
        },
        "id": "SYECEFrlhK4l",
        "outputId": "8b87ee31-775a-450b-a666-1951535294da"
      },
      "source": [
        "data.describe()"
      ],
      "execution_count": 22,
      "outputs": [
        {
          "output_type": "execute_result",
          "data": {
            "text/html": [
              "<div>\n",
              "<style scoped>\n",
              "    .dataframe tbody tr th:only-of-type {\n",
              "        vertical-align: middle;\n",
              "    }\n",
              "\n",
              "    .dataframe tbody tr th {\n",
              "        vertical-align: top;\n",
              "    }\n",
              "\n",
              "    .dataframe thead th {\n",
              "        text-align: right;\n",
              "    }\n",
              "</style>\n",
              "<table border=\"1\" class=\"dataframe\">\n",
              "  <thead>\n",
              "    <tr style=\"text-align: right;\">\n",
              "      <th></th>\n",
              "      <th>age</th>\n",
              "      <th>sex</th>\n",
              "      <th>cp</th>\n",
              "      <th>trestbps</th>\n",
              "      <th>chol</th>\n",
              "      <th>fbs</th>\n",
              "      <th>restecg</th>\n",
              "      <th>thalach</th>\n",
              "      <th>exang</th>\n",
              "      <th>oldpeak</th>\n",
              "      <th>slope</th>\n",
              "      <th>ca</th>\n",
              "      <th>thal</th>\n",
              "      <th>target</th>\n",
              "    </tr>\n",
              "  </thead>\n",
              "  <tbody>\n",
              "    <tr>\n",
              "      <th>count</th>\n",
              "      <td>303.000000</td>\n",
              "      <td>303.000000</td>\n",
              "      <td>303.000000</td>\n",
              "      <td>303.000000</td>\n",
              "      <td>303.000000</td>\n",
              "      <td>303.000000</td>\n",
              "      <td>303.000000</td>\n",
              "      <td>303.000000</td>\n",
              "      <td>303.000000</td>\n",
              "      <td>303.000000</td>\n",
              "      <td>303.000000</td>\n",
              "      <td>303.000000</td>\n",
              "      <td>303.000000</td>\n",
              "      <td>303.000000</td>\n",
              "    </tr>\n",
              "    <tr>\n",
              "      <th>mean</th>\n",
              "      <td>54.366337</td>\n",
              "      <td>0.683168</td>\n",
              "      <td>0.966997</td>\n",
              "      <td>131.623762</td>\n",
              "      <td>246.264026</td>\n",
              "      <td>0.148515</td>\n",
              "      <td>0.528053</td>\n",
              "      <td>149.646865</td>\n",
              "      <td>0.326733</td>\n",
              "      <td>1.039604</td>\n",
              "      <td>1.399340</td>\n",
              "      <td>0.729373</td>\n",
              "      <td>2.313531</td>\n",
              "      <td>0.544554</td>\n",
              "    </tr>\n",
              "    <tr>\n",
              "      <th>std</th>\n",
              "      <td>9.082101</td>\n",
              "      <td>0.466011</td>\n",
              "      <td>1.032052</td>\n",
              "      <td>17.538143</td>\n",
              "      <td>51.830751</td>\n",
              "      <td>0.356198</td>\n",
              "      <td>0.525860</td>\n",
              "      <td>22.905161</td>\n",
              "      <td>0.469794</td>\n",
              "      <td>1.161075</td>\n",
              "      <td>0.616226</td>\n",
              "      <td>1.022606</td>\n",
              "      <td>0.612277</td>\n",
              "      <td>0.498835</td>\n",
              "    </tr>\n",
              "    <tr>\n",
              "      <th>min</th>\n",
              "      <td>29.000000</td>\n",
              "      <td>0.000000</td>\n",
              "      <td>0.000000</td>\n",
              "      <td>94.000000</td>\n",
              "      <td>126.000000</td>\n",
              "      <td>0.000000</td>\n",
              "      <td>0.000000</td>\n",
              "      <td>71.000000</td>\n",
              "      <td>0.000000</td>\n",
              "      <td>0.000000</td>\n",
              "      <td>0.000000</td>\n",
              "      <td>0.000000</td>\n",
              "      <td>0.000000</td>\n",
              "      <td>0.000000</td>\n",
              "    </tr>\n",
              "    <tr>\n",
              "      <th>25%</th>\n",
              "      <td>47.500000</td>\n",
              "      <td>0.000000</td>\n",
              "      <td>0.000000</td>\n",
              "      <td>120.000000</td>\n",
              "      <td>211.000000</td>\n",
              "      <td>0.000000</td>\n",
              "      <td>0.000000</td>\n",
              "      <td>133.500000</td>\n",
              "      <td>0.000000</td>\n",
              "      <td>0.000000</td>\n",
              "      <td>1.000000</td>\n",
              "      <td>0.000000</td>\n",
              "      <td>2.000000</td>\n",
              "      <td>0.000000</td>\n",
              "    </tr>\n",
              "    <tr>\n",
              "      <th>50%</th>\n",
              "      <td>55.000000</td>\n",
              "      <td>1.000000</td>\n",
              "      <td>1.000000</td>\n",
              "      <td>130.000000</td>\n",
              "      <td>240.000000</td>\n",
              "      <td>0.000000</td>\n",
              "      <td>1.000000</td>\n",
              "      <td>153.000000</td>\n",
              "      <td>0.000000</td>\n",
              "      <td>0.800000</td>\n",
              "      <td>1.000000</td>\n",
              "      <td>0.000000</td>\n",
              "      <td>2.000000</td>\n",
              "      <td>1.000000</td>\n",
              "    </tr>\n",
              "    <tr>\n",
              "      <th>75%</th>\n",
              "      <td>61.000000</td>\n",
              "      <td>1.000000</td>\n",
              "      <td>2.000000</td>\n",
              "      <td>140.000000</td>\n",
              "      <td>274.500000</td>\n",
              "      <td>0.000000</td>\n",
              "      <td>1.000000</td>\n",
              "      <td>166.000000</td>\n",
              "      <td>1.000000</td>\n",
              "      <td>1.600000</td>\n",
              "      <td>2.000000</td>\n",
              "      <td>1.000000</td>\n",
              "      <td>3.000000</td>\n",
              "      <td>1.000000</td>\n",
              "    </tr>\n",
              "    <tr>\n",
              "      <th>max</th>\n",
              "      <td>77.000000</td>\n",
              "      <td>1.000000</td>\n",
              "      <td>3.000000</td>\n",
              "      <td>200.000000</td>\n",
              "      <td>564.000000</td>\n",
              "      <td>1.000000</td>\n",
              "      <td>2.000000</td>\n",
              "      <td>202.000000</td>\n",
              "      <td>1.000000</td>\n",
              "      <td>6.200000</td>\n",
              "      <td>2.000000</td>\n",
              "      <td>4.000000</td>\n",
              "      <td>3.000000</td>\n",
              "      <td>1.000000</td>\n",
              "    </tr>\n",
              "  </tbody>\n",
              "</table>\n",
              "</div>"
            ],
            "text/plain": [
              "              age         sex          cp  ...          ca        thal      target\n",
              "count  303.000000  303.000000  303.000000  ...  303.000000  303.000000  303.000000\n",
              "mean    54.366337    0.683168    0.966997  ...    0.729373    2.313531    0.544554\n",
              "std      9.082101    0.466011    1.032052  ...    1.022606    0.612277    0.498835\n",
              "min     29.000000    0.000000    0.000000  ...    0.000000    0.000000    0.000000\n",
              "25%     47.500000    0.000000    0.000000  ...    0.000000    2.000000    0.000000\n",
              "50%     55.000000    1.000000    1.000000  ...    0.000000    2.000000    1.000000\n",
              "75%     61.000000    1.000000    2.000000  ...    1.000000    3.000000    1.000000\n",
              "max     77.000000    1.000000    3.000000  ...    4.000000    3.000000    1.000000\n",
              "\n",
              "[8 rows x 14 columns]"
            ]
          },
          "metadata": {
            "tags": []
          },
          "execution_count": 22
        }
      ]
    },
    {
      "cell_type": "code",
      "metadata": {
        "id": "aCt5dVujhK-9"
      },
      "source": [
        "inputs = torch.from_numpy(np.array(inputs_array,dtype='float32'))\n",
        "\n",
        "targets = torch.from_numpy(np.array(targets_array,dtype='float32'))"
      ],
      "execution_count": 23,
      "outputs": []
    },
    {
      "cell_type": "code",
      "metadata": {
        "colab": {
          "base_uri": "https://localhost:8080/"
        },
        "id": "4E0UmU8fhLBP",
        "outputId": "10b86d54-e78f-4d21-ffe3-2bb32f2cf7b9"
      },
      "source": [
        "inputs.dtype"
      ],
      "execution_count": 24,
      "outputs": [
        {
          "output_type": "execute_result",
          "data": {
            "text/plain": [
              "torch.float32"
            ]
          },
          "metadata": {
            "tags": []
          },
          "execution_count": 24
        }
      ]
    },
    {
      "cell_type": "code",
      "metadata": {
        "colab": {
          "base_uri": "https://localhost:8080/"
        },
        "id": "EHe1zktvhLDc",
        "outputId": "521964e9-eeae-4afa-98b5-7db631355216"
      },
      "source": [
        "targets.dtype"
      ],
      "execution_count": 25,
      "outputs": [
        {
          "output_type": "execute_result",
          "data": {
            "text/plain": [
              "torch.float32"
            ]
          },
          "metadata": {
            "tags": []
          },
          "execution_count": 25
        }
      ]
    },
    {
      "cell_type": "code",
      "metadata": {
        "id": "NUOVCQ6Lhi1V"
      },
      "source": [
        "from torch.utils.data import DataLoader, TensorDataset, random_split\n",
        "dataset = TensorDataset(inputs, targets)"
      ],
      "execution_count": 26,
      "outputs": []
    },
    {
      "cell_type": "code",
      "metadata": {
        "id": "CX0azAShhi-T"
      },
      "source": [
        "test_percent = 0.15\n",
        "num_rows=len(inputs)\n",
        "test_size = int(num_rows * test_percent)\n",
        "train_size = num_rows - test_size\n",
        "\n",
        "\n",
        "train_ds, test_ds = random_split(dataset,[train_size,test_size])"
      ],
      "execution_count": 27,
      "outputs": []
    },
    {
      "cell_type": "code",
      "metadata": {
        "id": "KcJaM2j8hjBE"
      },
      "source": [
        "batch_size=1"
      ],
      "execution_count": 28,
      "outputs": []
    },
    {
      "cell_type": "code",
      "metadata": {
        "id": "zGQ7UF0PhjDo"
      },
      "source": [
        "train_loader = DataLoader(train_ds, batch_size, shuffle=True)\n",
        "test_loader = DataLoader(test_ds, batch_size)"
      ],
      "execution_count": 29,
      "outputs": []
    },
    {
      "cell_type": "code",
      "metadata": {
        "colab": {
          "base_uri": "https://localhost:8080/"
        },
        "id": "EpMOl2N1hjFu",
        "outputId": "48b3ba68-24f5-421a-a023-dd1c8f3b56ce"
      },
      "source": [
        "for data, target in train_loader:\n",
        "    print(\"inputs:\", data)\n",
        "    print(\"targets:\", target)\n",
        "    break"
      ],
      "execution_count": 30,
      "outputs": [
        {
          "output_type": "stream",
          "text": [
            "inputs: tensor([[ 49.,   1.,   2., 120., 188.,   0.,   1., 139.,   0.,   2.,   1.,   3.,\n",
            "           3.]])\n",
            "targets: tensor([[0.]])\n"
          ],
          "name": "stdout"
        }
      ]
    },
    {
      "cell_type": "code",
      "metadata": {
        "id": "JBN4V1G3hjJM"
      },
      "source": [
        "input_size = len(input_cols)\n",
        "output_size = len(target_col)"
      ],
      "execution_count": 31,
      "outputs": []
    },
    {
      "cell_type": "code",
      "metadata": {
        "colab": {
          "base_uri": "https://localhost:8080/"
        },
        "id": "zsypSr9QhjTC",
        "outputId": "0cacde5f-dac2-4c86-f008-da81e3a641eb"
      },
      "source": [
        "input_size,output_size"
      ],
      "execution_count": 32,
      "outputs": [
        {
          "output_type": "execute_result",
          "data": {
            "text/plain": [
              "(13, 1)"
            ]
          },
          "metadata": {
            "tags": []
          },
          "execution_count": 32
        }
      ]
    },
    {
      "cell_type": "code",
      "metadata": {
        "id": "zPJsrXClhLF2"
      },
      "source": [
        "def accuracy(outputs, labels):\n",
        "    _, preds = torch.max(outputs, dim=1)\n",
        "    return torch.tensor(torch.sum(preds == labels).item() / len(preds))"
      ],
      "execution_count": 33,
      "outputs": []
    },
    {
      "cell_type": "code",
      "metadata": {
        "colab": {
          "base_uri": "https://localhost:8080/"
        },
        "id": "HMn-YnxqhLIb",
        "outputId": "402b44a5-5365-49a8-e4fd-55e8d13bc897"
      },
      "source": [
        "len(train_loader)"
      ],
      "execution_count": 34,
      "outputs": [
        {
          "output_type": "execute_result",
          "data": {
            "text/plain": [
              "258"
            ]
          },
          "metadata": {
            "tags": []
          },
          "execution_count": 34
        }
      ]
    },
    {
      "cell_type": "code",
      "metadata": {
        "id": "410TbKariCsW"
      },
      "source": [
        "class HeartModel(nn.Module):\n",
        "    def __init__(self):\n",
        "        super().__init__()\n",
        "        self.linear = nn.Linear(input_size,output_size)                \n",
        "        \n",
        "    def forward(self, xb):\n",
        "        out = self.linear(xb)    \n",
        "        out=F.sigmoid(out)                    \n",
        "        return out\n",
        "    \n",
        "    def training_step(self, batch):\n",
        "        inputs, targets = batch \n",
        "        # Generate predictions\n",
        "        out = self(inputs)         \n",
        "        # Calcuate loss\n",
        "        loss = F.binary_cross_entropy(out, targets)                         \n",
        "        return loss\n",
        "    \n",
        "    def validation_step(self, batch):\n",
        "        inputs, targets = batch\n",
        "        # Generate predictions\n",
        "        out = self(inputs)\n",
        "        # Calculate loss\n",
        "        loss = F.binary_cross_entropy(out, targets)                              \n",
        "        return {'val_loss': loss.detach()}\n",
        "        \n",
        "    def validation_epoch_end(self, outputs):\n",
        "        batch_losses = [x['val_loss'] for x in outputs]\n",
        "        epoch_loss = torch.stack(batch_losses).mean()  \n",
        "        return {'val_loss': epoch_loss.item()}\n",
        "    \n",
        "    def epoch_end(self, epoch, result, num_epochs):\n",
        "        # Print result every 20th epoch\n",
        "        if (epoch+1) % 20 == 0 or epoch == num_epochs-1:\n",
        "            print(\"Epoch [{}], val_loss: {:.4f}\".format(epoch+1, result['val_loss']))"
      ],
      "execution_count": 35,
      "outputs": []
    },
    {
      "cell_type": "code",
      "metadata": {
        "id": "w7Qt3KR-iCvR"
      },
      "source": [
        "model=HeartModel()"
      ],
      "execution_count": 36,
      "outputs": []
    },
    {
      "cell_type": "code",
      "metadata": {
        "colab": {
          "base_uri": "https://localhost:8080/"
        },
        "id": "kTBpK2-piCx5",
        "outputId": "48a94922-803a-4867-e914-adf07a0b30f4"
      },
      "source": [
        "list(model.parameters())"
      ],
      "execution_count": 37,
      "outputs": [
        {
          "output_type": "execute_result",
          "data": {
            "text/plain": [
              "[Parameter containing:\n",
              " tensor([[-0.0652,  0.0195, -0.2346, -0.0233, -0.2614, -0.1394, -0.1559, -0.1173,\n",
              "          -0.2103, -0.0896, -0.0213,  0.1118, -0.2546]], requires_grad=True),\n",
              " Parameter containing:\n",
              " tensor([-0.2662], requires_grad=True)]"
            ]
          },
          "metadata": {
            "tags": []
          },
          "execution_count": 37
        }
      ]
    },
    {
      "cell_type": "code",
      "metadata": {
        "id": "8gNFMmOziC0c"
      },
      "source": [
        "def evaluate(model, val_loader):\n",
        "    outputs = [model.validation_step(batch) for batch in val_loader]\n",
        "    return model.validation_epoch_end(outputs)\n",
        "\n",
        "def fit(epochs, lr, model, train_loader, val_loader, opt_func=torch.optim.Adam):\n",
        "    history = []\n",
        "    optimizer = opt_func(model.parameters(), lr)\n",
        "    for epoch in range(epochs):\n",
        "        # Training Phase \n",
        "        for batch in train_loader:\n",
        "            loss = model.training_step(batch)\n",
        "            loss.backward()\n",
        "            optimizer.step()\n",
        "            optimizer.zero_grad()\n",
        "        # Validation phase\n",
        "        result = evaluate(model, val_loader)\n",
        "        model.epoch_end(epoch, result, epochs)\n",
        "        history.append(result)\n",
        "    return history"
      ],
      "execution_count": 38,
      "outputs": []
    },
    {
      "cell_type": "code",
      "metadata": {
        "colab": {
          "base_uri": "https://localhost:8080/"
        },
        "id": "fq1BXG6AiC21",
        "outputId": "00c519b3-d03a-4385-8a09-f1bd4c20ba49"
      },
      "source": [
        "result = evaluate(model,test_loader) # Use the the evaluate function\n",
        "print(result)"
      ],
      "execution_count": 39,
      "outputs": [
        {
          "output_type": "stream",
          "text": [
            "{'val_loss': 46.09092712402344}\n"
          ],
          "name": "stdout"
        },
        {
          "output_type": "stream",
          "text": [
            "/usr/local/lib/python3.7/dist-packages/torch/nn/functional.py:1709: UserWarning: nn.functional.sigmoid is deprecated. Use torch.sigmoid instead.\n",
            "  warnings.warn(\"nn.functional.sigmoid is deprecated. Use torch.sigmoid instead.\")\n"
          ],
          "name": "stderr"
        }
      ]
    },
    {
      "cell_type": "code",
      "metadata": {
        "colab": {
          "base_uri": "https://localhost:8080/"
        },
        "id": "tWLcOFceiC5K",
        "outputId": "937d84ee-d4fa-4ad0-a170-8c93fb416ff0"
      },
      "source": [
        "epochs = 300\n",
        "lr = 1e-4\n",
        "history1 = fit(epochs, lr, model, train_loader, test_loader)"
      ],
      "execution_count": 40,
      "outputs": [
        {
          "output_type": "stream",
          "text": [
            "/usr/local/lib/python3.7/dist-packages/torch/nn/functional.py:1709: UserWarning: nn.functional.sigmoid is deprecated. Use torch.sigmoid instead.\n",
            "  warnings.warn(\"nn.functional.sigmoid is deprecated. Use torch.sigmoid instead.\")\n"
          ],
          "name": "stderr"
        },
        {
          "output_type": "stream",
          "text": [
            "Epoch [20], val_loss: 46.0909\n",
            "Epoch [40], val_loss: 46.0909\n",
            "Epoch [60], val_loss: 46.0909\n",
            "Epoch [80], val_loss: 46.0909\n",
            "Epoch [100], val_loss: 46.0909\n",
            "Epoch [120], val_loss: 46.0909\n",
            "Epoch [140], val_loss: 46.0909\n",
            "Epoch [160], val_loss: 46.0909\n",
            "Epoch [180], val_loss: 46.0909\n",
            "Epoch [200], val_loss: 46.0909\n",
            "Epoch [220], val_loss: 46.0909\n",
            "Epoch [240], val_loss: 46.0909\n",
            "Epoch [260], val_loss: 46.0909\n",
            "Epoch [280], val_loss: 46.0909\n",
            "Epoch [300], val_loss: 46.0909\n"
          ],
          "name": "stdout"
        }
      ]
    },
    {
      "cell_type": "markdown",
      "metadata": {
        "id": "G6pMC4W5iyO6"
      },
      "source": [
        "The model has been trained with different batch sizes, epochs, loss functions and optimizers. But only the model that gave me the best results are shown here."
      ]
    },
    {
      "cell_type": "code",
      "metadata": {
        "colab": {
          "base_uri": "https://localhost:8080/"
        },
        "id": "i2XwvhUWktd5",
        "outputId": "34816d9f-ed50-4de2-e0e9-77f620db0e18"
      },
      "source": [
        "val_loss = evaluate(model,test_loader)\n",
        "val_loss"
      ],
      "execution_count": 41,
      "outputs": [
        {
          "output_type": "stream",
          "text": [
            "/usr/local/lib/python3.7/dist-packages/torch/nn/functional.py:1709: UserWarning: nn.functional.sigmoid is deprecated. Use torch.sigmoid instead.\n",
            "  warnings.warn(\"nn.functional.sigmoid is deprecated. Use torch.sigmoid instead.\")\n"
          ],
          "name": "stderr"
        },
        {
          "output_type": "execute_result",
          "data": {
            "text/plain": [
              "{'val_loss': 46.09092712402344}"
            ]
          },
          "metadata": {
            "tags": []
          },
          "execution_count": 41
        }
      ]
    },
    {
      "cell_type": "code",
      "metadata": {
        "id": "090Fdo10ou6y"
      },
      "source": [
        "def predict_single(input, target, model):\n",
        "    inputs = input.unsqueeze(0)\n",
        "    predictions = model(input)           # fill this\n",
        "    prediction =predictions[0].detach()\n",
        "    if(prediction>=0.5):\n",
        "        prediction=np.array(1)\n",
        "    else:\n",
        "        prediction=np.array(0)\n",
        "    prediction=np.array(prediction)\n",
        "    prediction = torch.from_numpy(np.array(prediction,dtype='float32'))\n",
        "    print(\"Input:\", input)\n",
        "    print(\"Target:\", target)\n",
        "    print(\"Prediction:\", prediction)\n",
        "    return prediction,target\n",
        "    "
      ],
      "execution_count": 42,
      "outputs": []
    },
    {
      "cell_type": "code",
      "metadata": {
        "colab": {
          "base_uri": "https://localhost:8080/"
        },
        "id": "JPBSSLhpovh0",
        "outputId": "b4f64088-1452-4ce6-c6de-03fba49b7aab"
      },
      "source": [
        "pred=[]\n",
        "actual=[]\n",
        "for i in range(len(test_ds)):\n",
        "    input, target = test_ds[i]\n",
        "    val,act=predict_single(input, target, model)\n",
        "  \n",
        "  \n",
        "    pred.append(val)\n",
        "    actual.append(act)\n",
        "\n",
        "pred=np.array(pred)\n",
        "pred = torch.from_numpy(np.array(pred,dtype='float32'))\n",
        "  "
      ],
      "execution_count": 43,
      "outputs": [
        {
          "output_type": "stream",
          "text": [
            "/usr/local/lib/python3.7/dist-packages/torch/nn/functional.py:1709: UserWarning: nn.functional.sigmoid is deprecated. Use torch.sigmoid instead.\n",
            "  warnings.warn(\"nn.functional.sigmoid is deprecated. Use torch.sigmoid instead.\")\n"
          ],
          "name": "stderr"
        },
        {
          "output_type": "stream",
          "text": [
            "Input: tensor([ 64.,   0.,   0., 130., 303.,   0.,   1., 122.,   0.,   2.,   1.,   2.,\n",
            "          2.])\n",
            "Target: tensor([1.])\n",
            "Prediction: tensor(0.)\n",
            "Input: tensor([ 56.0000,   1.0000,   1.0000, 120.0000, 236.0000,   0.0000,   1.0000,\n",
            "        178.0000,   0.0000,   0.8000,   2.0000,   0.0000,   2.0000])\n",
            "Target: tensor([1.])\n",
            "Prediction: tensor(0.)\n",
            "Input: tensor([6.4000e+01, 0.0000e+00, 2.0000e+00, 1.4000e+02, 3.1300e+02, 0.0000e+00,\n",
            "        1.0000e+00, 1.3300e+02, 0.0000e+00, 2.0000e-01, 2.0000e+00, 0.0000e+00,\n",
            "        3.0000e+00])\n",
            "Target: tensor([1.])\n",
            "Prediction: tensor(0.)\n",
            "Input: tensor([ 51.0000,   1.0000,   3.0000, 125.0000, 213.0000,   0.0000,   0.0000,\n",
            "        125.0000,   1.0000,   1.4000,   2.0000,   1.0000,   2.0000])\n",
            "Target: tensor([1.])\n",
            "Prediction: tensor(0.)\n",
            "Input: tensor([4.7000e+01, 1.0000e+00, 0.0000e+00, 1.1200e+02, 2.0400e+02, 0.0000e+00,\n",
            "        1.0000e+00, 1.4300e+02, 0.0000e+00, 1.0000e-01, 2.0000e+00, 0.0000e+00,\n",
            "        2.0000e+00])\n",
            "Target: tensor([1.])\n",
            "Prediction: tensor(0.)\n",
            "Input: tensor([ 64.0000,   1.0000,   0.0000, 120.0000, 246.0000,   0.0000,   0.0000,\n",
            "         96.0000,   1.0000,   2.2000,   0.0000,   1.0000,   2.0000])\n",
            "Target: tensor([0.])\n",
            "Prediction: tensor(0.)\n",
            "Input: tensor([ 58.0000,   1.0000,   1.0000, 125.0000, 220.0000,   0.0000,   1.0000,\n",
            "        144.0000,   0.0000,   0.4000,   1.0000,   4.0000,   3.0000])\n",
            "Target: tensor([1.])\n",
            "Prediction: tensor(0.)\n",
            "Input: tensor([ 62.0000,   1.0000,   0.0000, 120.0000, 267.0000,   0.0000,   1.0000,\n",
            "         99.0000,   1.0000,   1.8000,   1.0000,   2.0000,   3.0000])\n",
            "Target: tensor([0.])\n",
            "Prediction: tensor(0.)\n",
            "Input: tensor([ 58.0000,   1.0000,   0.0000, 150.0000, 270.0000,   0.0000,   0.0000,\n",
            "        111.0000,   1.0000,   0.8000,   2.0000,   0.0000,   3.0000])\n",
            "Target: tensor([0.])\n",
            "Prediction: tensor(0.)\n",
            "Input: tensor([ 55.0000,   0.0000,   1.0000, 132.0000, 342.0000,   0.0000,   1.0000,\n",
            "        166.0000,   0.0000,   1.2000,   2.0000,   0.0000,   2.0000])\n",
            "Target: tensor([1.])\n",
            "Prediction: tensor(0.)\n",
            "Input: tensor([ 43.0000,   1.0000,   0.0000, 150.0000, 247.0000,   0.0000,   1.0000,\n",
            "        171.0000,   0.0000,   1.5000,   2.0000,   0.0000,   2.0000])\n",
            "Target: tensor([1.])\n",
            "Prediction: tensor(0.)\n",
            "Input: tensor([ 63.0000,   0.0000,   0.0000, 108.0000, 269.0000,   0.0000,   1.0000,\n",
            "        169.0000,   1.0000,   1.8000,   1.0000,   2.0000,   2.0000])\n",
            "Target: tensor([0.])\n",
            "Prediction: tensor(0.)\n",
            "Input: tensor([ 61.,   0.,   0., 145., 307.,   0.,   0., 146.,   1.,   1.,   1.,   0.,\n",
            "          3.])\n",
            "Target: tensor([0.])\n",
            "Prediction: tensor(0.)\n",
            "Input: tensor([ 50.0000,   0.0000,   2.0000, 120.0000, 219.0000,   0.0000,   1.0000,\n",
            "        158.0000,   0.0000,   1.6000,   1.0000,   0.0000,   2.0000])\n",
            "Target: tensor([1.])\n",
            "Prediction: tensor(0.)\n",
            "Input: tensor([ 41.,   1.,   2., 112., 250.,   0.,   1., 179.,   0.,   0.,   2.,   0.,\n",
            "          2.])\n",
            "Target: tensor([1.])\n",
            "Prediction: tensor(0.)\n",
            "Input: tensor([ 55.0000,   0.0000,   0.0000, 180.0000, 327.0000,   0.0000,   2.0000,\n",
            "        117.0000,   1.0000,   3.4000,   1.0000,   0.0000,   2.0000])\n",
            "Target: tensor([0.])\n",
            "Prediction: tensor(0.)\n",
            "Input: tensor([ 58.,   1.,   0., 146., 218.,   0.,   1., 105.,   0.,   2.,   1.,   1.,\n",
            "          3.])\n",
            "Target: tensor([0.])\n",
            "Prediction: tensor(0.)\n",
            "Input: tensor([ 64.,   1.,   2., 140., 335.,   0.,   1., 158.,   0.,   0.,   2.,   0.,\n",
            "          2.])\n",
            "Target: tensor([0.])\n",
            "Prediction: tensor(0.)\n",
            "Input: tensor([ 53.,   0.,   0., 138., 234.,   0.,   0., 160.,   0.,   0.,   2.,   0.,\n",
            "          2.])\n",
            "Target: tensor([1.])\n",
            "Prediction: tensor(0.)\n",
            "Input: tensor([ 53.,   1.,   0., 142., 226.,   0.,   0., 111.,   1.,   0.,   2.,   0.,\n",
            "          3.])\n",
            "Target: tensor([1.])\n",
            "Prediction: tensor(0.)\n",
            "Input: tensor([ 42.0000,   0.0000,   0.0000, 102.0000, 265.0000,   0.0000,   0.0000,\n",
            "        122.0000,   0.0000,   0.6000,   1.0000,   0.0000,   2.0000])\n",
            "Target: tensor([1.])\n",
            "Prediction: tensor(0.)\n",
            "Input: tensor([ 58.0000,   1.0000,   0.0000, 128.0000, 216.0000,   0.0000,   0.0000,\n",
            "        131.0000,   1.0000,   2.2000,   1.0000,   3.0000,   3.0000])\n",
            "Target: tensor([0.])\n",
            "Prediction: tensor(0.)\n",
            "Input: tensor([ 52.,   1.,   0., 128., 255.,   0.,   1., 161.,   1.,   0.,   2.,   1.,\n",
            "          3.])\n",
            "Target: tensor([0.])\n",
            "Prediction: tensor(0.)\n",
            "Input: tensor([ 38.,   1.,   2., 138., 175.,   0.,   1., 173.,   0.,   0.,   2.,   4.,\n",
            "          2.])\n",
            "Target: tensor([1.])\n",
            "Prediction: tensor(0.)\n",
            "Input: tensor([ 56.0000,   1.0000,   2.0000, 130.0000, 256.0000,   1.0000,   0.0000,\n",
            "        142.0000,   1.0000,   0.6000,   1.0000,   1.0000,   1.0000])\n",
            "Target: tensor([0.])\n",
            "Prediction: tensor(0.)\n",
            "Input: tensor([ 56.,   0.,   0., 200., 288.,   1.,   0., 133.,   1.,   4.,   0.,   2.,\n",
            "          3.])\n",
            "Target: tensor([0.])\n",
            "Prediction: tensor(0.)\n",
            "Input: tensor([ 66.0000,   1.0000,   0.0000, 160.0000, 228.0000,   0.0000,   0.0000,\n",
            "        138.0000,   0.0000,   2.3000,   2.0000,   0.0000,   1.0000])\n",
            "Target: tensor([1.])\n",
            "Prediction: tensor(0.)\n",
            "Input: tensor([ 46.0000,   1.0000,   0.0000, 120.0000, 249.0000,   0.0000,   0.0000,\n",
            "        144.0000,   0.0000,   0.8000,   2.0000,   0.0000,   3.0000])\n",
            "Target: tensor([0.])\n",
            "Prediction: tensor(0.)\n",
            "Input: tensor([ 67.0000,   0.0000,   0.0000, 106.0000, 223.0000,   0.0000,   1.0000,\n",
            "        142.0000,   0.0000,   0.3000,   2.0000,   2.0000,   2.0000])\n",
            "Target: tensor([1.])\n",
            "Prediction: tensor(0.)\n",
            "Input: tensor([ 52.0000,   1.0000,   2.0000, 172.0000, 199.0000,   1.0000,   1.0000,\n",
            "        162.0000,   0.0000,   0.5000,   2.0000,   0.0000,   3.0000])\n",
            "Target: tensor([1.])\n",
            "Prediction: tensor(0.)\n",
            "Input: tensor([ 61.,   0.,   0., 130., 330.,   0.,   0., 169.,   0.,   0.,   2.,   0.,\n",
            "          2.])\n",
            "Target: tensor([0.])\n",
            "Prediction: tensor(0.)\n",
            "Input: tensor([ 57.,   0.,   1., 130., 236.,   0.,   0., 174.,   0.,   0.,   1.,   1.,\n",
            "          2.])\n",
            "Target: tensor([0.])\n",
            "Prediction: tensor(0.)\n",
            "Input: tensor([5.8000e+01, 1.0000e+00, 0.0000e+00, 1.0000e+02, 2.3400e+02, 0.0000e+00,\n",
            "        1.0000e+00, 1.5600e+02, 0.0000e+00, 1.0000e-01, 2.0000e+00, 1.0000e+00,\n",
            "        3.0000e+00])\n",
            "Target: tensor([0.])\n",
            "Prediction: tensor(0.)\n",
            "Input: tensor([ 56.0000,   1.0000,   0.0000, 132.0000, 184.0000,   0.0000,   0.0000,\n",
            "        105.0000,   1.0000,   2.1000,   1.0000,   1.0000,   1.0000])\n",
            "Target: tensor([0.])\n",
            "Prediction: tensor(0.)\n",
            "Input: tensor([ 54.0000,   1.0000,   0.0000, 110.0000, 239.0000,   0.0000,   1.0000,\n",
            "        126.0000,   1.0000,   2.8000,   1.0000,   1.0000,   3.0000])\n",
            "Target: tensor([0.])\n",
            "Prediction: tensor(0.)\n",
            "Input: tensor([ 63.,   0.,   1., 140., 195.,   0.,   1., 179.,   0.,   0.,   2.,   2.,\n",
            "          2.])\n",
            "Target: tensor([1.])\n",
            "Prediction: tensor(0.)\n",
            "Input: tensor([ 52.,   1.,   0., 125., 212.,   0.,   1., 168.,   0.,   1.,   2.,   2.,\n",
            "          3.])\n",
            "Target: tensor([0.])\n",
            "Prediction: tensor(0.)\n",
            "Input: tensor([ 52.,   1.,   0., 112., 230.,   0.,   1., 160.,   0.,   0.,   2.,   1.,\n",
            "          2.])\n",
            "Target: tensor([0.])\n",
            "Prediction: tensor(0.)\n",
            "Input: tensor([ 47.,   1.,   2., 130., 253.,   0.,   1., 179.,   0.,   0.,   2.,   0.,\n",
            "          2.])\n",
            "Target: tensor([1.])\n",
            "Prediction: tensor(0.)\n",
            "Input: tensor([ 51.,   1.,   0., 140., 261.,   0.,   0., 186.,   1.,   0.,   2.,   0.,\n",
            "          2.])\n",
            "Target: tensor([1.])\n",
            "Prediction: tensor(0.)\n",
            "Input: tensor([ 62.0000,   1.0000,   1.0000, 120.0000, 281.0000,   0.0000,   0.0000,\n",
            "        103.0000,   0.0000,   1.4000,   1.0000,   1.0000,   3.0000])\n",
            "Target: tensor([0.])\n",
            "Prediction: tensor(0.)\n",
            "Input: tensor([ 59.,   1.,   1., 140., 221.,   0.,   1., 164.,   1.,   0.,   2.,   0.,\n",
            "          2.])\n",
            "Target: tensor([1.])\n",
            "Prediction: tensor(0.)\n",
            "Input: tensor([ 53.0000,   0.0000,   0.0000, 130.0000, 264.0000,   0.0000,   0.0000,\n",
            "        143.0000,   0.0000,   0.4000,   1.0000,   0.0000,   2.0000])\n",
            "Target: tensor([1.])\n",
            "Prediction: tensor(0.)\n",
            "Input: tensor([ 54.0000,   1.0000,   0.0000, 140.0000, 239.0000,   0.0000,   1.0000,\n",
            "        160.0000,   0.0000,   1.2000,   2.0000,   0.0000,   2.0000])\n",
            "Target: tensor([1.])\n",
            "Prediction: tensor(0.)\n",
            "Input: tensor([ 64.,   1.,   0., 145., 212.,   0.,   0., 132.,   0.,   2.,   1.,   2.,\n",
            "          1.])\n",
            "Target: tensor([0.])\n",
            "Prediction: tensor(0.)\n"
          ],
          "name": "stdout"
        }
      ]
    },
    {
      "cell_type": "code",
      "metadata": {
        "colab": {
          "base_uri": "https://localhost:8080/"
        },
        "id": "JJkuqAMYoy9N",
        "outputId": "9ea33c5a-d417-4546-cbc8-0f418e7ba14f"
      },
      "source": [
        "count=0\n",
        "total=len(test_ds)\n",
        "for i in range(len(test_ds)):\n",
        "    if(actual[i]==pred[i]):\n",
        "      count+=1\n",
        "count"
      ],
      "execution_count": 45,
      "outputs": [
        {
          "output_type": "execute_result",
          "data": {
            "text/plain": [
              "22"
            ]
          },
          "metadata": {
            "tags": []
          },
          "execution_count": 45
        }
      ]
    },
    {
      "cell_type": "code",
      "metadata": {
        "colab": {
          "base_uri": "https://localhost:8080/",
          "height": 162
        },
        "id": "aKGNCWhuoy_j",
        "outputId": "d2ed3550-0d33-4b4c-d47e-d31734e47617"
      },
      "source": [
        "print(f'Accuracy of the network on the {total} test data is {100*(count/total)}')"
      ],
      "execution_count": 1,
      "outputs": [
        {
          "output_type": "error",
          "ename": "NameError",
          "evalue": "ignored",
          "traceback": [
            "\u001b[0;31m---------------------------------------------------------------------------\u001b[0m",
            "\u001b[0;31mNameError\u001b[0m                                 Traceback (most recent call last)",
            "\u001b[0;32m<ipython-input-1-ed32c9717471>\u001b[0m in \u001b[0;36m<module>\u001b[0;34m()\u001b[0m\n\u001b[0;32m----> 1\u001b[0;31m \u001b[0mprint\u001b[0m\u001b[0;34m(\u001b[0m\u001b[0;34mf'Accuracy of the network on the {total} test data is {100*(count/total)}'\u001b[0m\u001b[0;34m)\u001b[0m\u001b[0;34m\u001b[0m\u001b[0;34m\u001b[0m\u001b[0m\n\u001b[0m",
            "\u001b[0;31mNameError\u001b[0m: name 'total' is not defined"
          ]
        }
      ]
    },
    {
      "cell_type": "code",
      "metadata": {
        "id": "T4HgWKf1qH0Z"
      },
      "source": [
        ""
      ],
      "execution_count": null,
      "outputs": []
    }
  ]
}